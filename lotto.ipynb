{
 "cells": [
  {
   "cell_type": "code",
   "execution_count": 1,
   "id": "5bc274a7",
   "metadata": {},
   "outputs": [],
   "source": [
    "def lotto(num=1):\n",
    "    import numpy as np\n",
    "    from bs4 import BeautifulSoup\n",
    "    from urllib.request import urlopen\n",
    "    \n",
    "    url = \"https://www.dhlottery.co.kr/gameResult.do?method=statByNumber\"\n",
    "    raw = BeautifulSoup(urlopen(url), \"html.parser\")\n",
    "    \n",
    "    rawWinTimes = list(raw.find_all(\"td\"))[-1:-135:-3]\n",
    "    rawWinTimes.reverse()\n",
    "    winTimes = [int(str(rawWinTimes[i]).strip('</td>')) for i in range(len(rawWinTimes))]\n",
    "    \n",
    "    totalTurn = int(str(raw.find_all(\"option\")[2]).split('\"')[1])\n",
    "    \n",
    "    winProb = [totalTurn - i for i in winTimes]\n",
    "    \n",
    "    sample = []\n",
    "    for number in range(1,46):\n",
    "        for i in range(winProb[number-1]):\n",
    "            sample.append(number)\n",
    "    \n",
    "    for i in range(1, num+1):\n",
    "        \n",
    "        choiceList=[]\n",
    "        while True:\n",
    "            number = np.random.choice(sample)\n",
    "            if number in choiceList:\n",
    "                continue\n",
    "            choiceList.append(number)\n",
    "            if len(choiceList) >= 6:\n",
    "                break\n",
    "        choiceList.sort()\n",
    "    \n",
    "        print(str(i) + \"번째 로또 번호는 \", end = \"\")\n",
    "        for order in choiceList:\n",
    "            if order == choiceList[5]:\n",
    "                print(str(order) + \" 입니다.\")\n",
    "            else:\n",
    "                print(str(order) + \", \", end = \"\")"
   ]
  },
  {
   "cell_type": "code",
   "execution_count": 2,
   "id": "9f11d573",
   "metadata": {},
   "outputs": [
    {
     "name": "stdout",
     "output_type": "stream",
     "text": [
      "1번째 로또 번호는 9, 10, 31, 35, 40, 45 입니다.\n",
      "2번째 로또 번호는 6, 19, 20, 30, 33, 44 입니다.\n",
      "3번째 로또 번호는 11, 13, 18, 21, 26, 45 입니다.\n",
      "4번째 로또 번호는 6, 14, 23, 24, 26, 29 입니다.\n"
     ]
    }
   ],
   "source": [
    "lotto(4)"
   ]
  },
  {
   "cell_type": "code",
   "execution_count": null,
   "id": "a0eb955a",
   "metadata": {},
   "outputs": [],
   "source": []
  }
 ],
 "metadata": {
  "kernelspec": {
   "display_name": "Python 3",
   "language": "python",
   "name": "python3"
  },
  "language_info": {
   "codemirror_mode": {
    "name": "ipython",
    "version": 3
   },
   "file_extension": ".py",
   "mimetype": "text/x-python",
   "name": "python",
   "nbconvert_exporter": "python",
   "pygments_lexer": "ipython3",
   "version": "3.8.8"
  }
 },
 "nbformat": 4,
 "nbformat_minor": 5
}
