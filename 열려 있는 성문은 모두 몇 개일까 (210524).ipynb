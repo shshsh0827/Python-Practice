{
 "cells": [
  {
   "cell_type": "markdown",
   "id": "95df2b9b",
   "metadata": {},
   "source": [
    "https://post.naver.com/viewer/postView.nhn?volumeNo=31512463&memberNo=5565159&navigationType=push\n",
    "\n",
    "왕이 사는 성을 둘러싸고 있는 성벽에 모두 1,000개의 문이 있다.\n",
    "매일 아침 1,000명의 근위병이 한 줄로 서서 성벽을 돌며\n",
    "다음과 같은 방식으로 성문을 점검한다.\n",
    "\n",
    "첫 번째 근위병은 성문을 모두 다 연다.\n",
    "두 번째 근위병은 짝수 번째의 문을 닫는다.\n",
    "세 번째 근위병은 3의 배수 번째의 문이 열려 있으면 닫고, 닫혀 있으면 연다.\n",
    "네 번째 근위병은 4의 배수 번째의 문이 열려 있으면 닫고, 닫혀 있으면 연다.\n",
    "다섯 번째 근위병은 5의 배수 번째의 문이 열려 있으면 닫고, 닫혀 있으면 연다.\n",
    "...\n",
    "\n",
    "이러한 방식으로 1,000명의 근위병이 모두 지나가고 난 뒤에 열려 있는 성문은 몇 개일까? 또 몇 번째 문들이 열려 있겠는가?"
   ]
  },
  {
   "cell_type": "code",
   "execution_count": 29,
   "id": "4408badf",
   "metadata": {},
   "outputs": [
    {
     "name": "stdout",
     "output_type": "stream",
     "text": [
      "열려 있는 성문은 총 31개이며\n",
      "1, 4, 9, 16, 25, 36, 49, 64, 81, 100, 121, 144, 169, 196, 225, 256, 289, 324, 361, 400, 441, 484, 529, 576, 625, 676, 729, 784, 841, 900, 961번째 문들이 열려 있습니다.\n"
     ]
    }
   ],
   "source": [
    "door = [0] * 1000\n",
    "for i in range(1,1001):\n",
    "    for j in range(i,1001,i):\n",
    "        door[j-1] += 1\n",
    "opendoor = []\n",
    "for i in range(1,1001):\n",
    "    if door[i-1]%2==1:\n",
    "        opendoor.append(i)\n",
    "print(\"열려 있는 성문은 총 \" + str(len(opendoor)) + \"개이며\")\n",
    "for i in opendoor:\n",
    "    if i==opendoor[-1]:\n",
    "        print(str(i) + \"번째 문들이 열려 있습니다.\")\n",
    "    else:\n",
    "        print(str(i), end=\", \")"
   ]
  }
 ],
 "metadata": {
  "kernelspec": {
   "display_name": "Python 3",
   "language": "python",
   "name": "python3"
  },
  "language_info": {
   "codemirror_mode": {
    "name": "ipython",
    "version": 3
   },
   "file_extension": ".py",
   "mimetype": "text/x-python",
   "name": "python",
   "nbconvert_exporter": "python",
   "pygments_lexer": "ipython3",
   "version": "3.8.8"
  }
 },
 "nbformat": 4,
 "nbformat_minor": 5
}
