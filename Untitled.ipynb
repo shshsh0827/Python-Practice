{
 "cells": [
  {
   "cell_type": "markdown",
   "id": "cccea192",
   "metadata": {},
   "source": [
    "어제 날짜의 네이버 영화 조회순 순위 1~10위 영화들을 기준으로 (어제 날짜가 최신임)\n",
    "영화들의 날짜별 순위 변동폭 그래프 "
   ]
  },
  {
   "cell_type": "code",
   "execution_count": 69,
   "id": "2b9fe00e",
   "metadata": {},
   "outputs": [],
   "source": [
    "import time\n",
    "from bs4 import BeautifulSoup\n",
    "from urllib.request import urlopen\n",
    "import matplotlib.pyplot as plt"
   ]
  },
  {
   "cell_type": "code",
   "execution_count": 36,
   "id": "2c28991f",
   "metadata": {},
   "outputs": [
    {
     "data": {
      "text/plain": [
       "'20210523'"
      ]
     },
     "execution_count": 36,
     "metadata": {},
     "output_type": "execute_result"
    }
   ],
   "source": [
    "for i in range(1,11):\n",
    "    \n",
    "    if i == 1: #10위까지의 영화 기준을 잡기 위해 어제일 때\n",
    "        date = time.localtime(time.time() - i*60*60)\n",
    "        date = time.strftime('%Y%m%d', date)\n",
    "        url = 'https://movie.naver.com/movie/sdb/rank/rmovie.nhn?sel=cnt&tg=0&date=' + yesterdayDate\n",
    "        raw = BeautifulSoup(urlopen(url), \"html.parser\")\n",
    "        ranking = list(raw.find_all(\"div\", \"tit3\"))\n",
    "        "
   ]
  },
  {
   "cell_type": "code",
   "execution_count": 38,
   "id": "fd69d290",
   "metadata": {},
   "outputs": [],
   "source": [
    "url = 'https://movie.naver.com/movie/sdb/rank/rmovie.nhn?sel=cnt&tg=0&date=' + yesterdayDate\n",
    "raw = BeautifulSoup(urlopen(url), \"html.parser\")"
   ]
  },
  {
   "cell_type": "code",
   "execution_count": 65,
   "id": "e041ed32",
   "metadata": {},
   "outputs": [],
   "source": [
    "ranking = list(raw.find_all(\"div\", \"tit3\"))"
   ]
  },
  {
   "cell_type": "code",
   "execution_count": 75,
   "id": "6f7e294b",
   "metadata": {
    "scrolled": true
   },
   "outputs": [
    {
     "data": {
      "text/plain": [
       "['/movie/bi/mi/basic.nhn?code=189150', '분노의 질주: 더 얼티메이트']"
      ]
     },
     "execution_count": 75,
     "metadata": {},
     "output_type": "execute_result"
    }
   ],
   "source": [
    "str(ranking[:]).split('\"')[3:6:2]"
   ]
  },
  {
   "cell_type": "code",
   "execution_count": 73,
   "id": "c5a89d25",
   "metadata": {},
   "outputs": [
    {
     "data": {
      "text/plain": [
       "[<matplotlib.lines.Line2D at 0x971ea60>]"
      ]
     },
     "execution_count": 73,
     "metadata": {},
     "output_type": "execute_result"
    },
    {
     "data": {
      "image/png": "[encoded data removed]",
      "text/plain": [
       "<Figure size 432x288 with 1 Axes>"
      ]
     },
     "metadata": {
      "needs_background": "light"
     },
     "output_type": "display_data"
    }
   ],
   "source": []
  },
  {
   "cell_type": "code",
   "execution_count": null,
   "id": "1595012c",
   "metadata": {},
   "outputs": [],
   "source": []
  }
 ],
 "metadata": {
  "kernelspec": {
   "display_name": "Python 3",
   "language": "python",
   "name": "python3"
  },
  "language_info": {
   "codemirror_mode": {
    "name": "ipython",
    "version": 3
   },
   "file_extension": ".py",
   "mimetype": "text/x-python",
   "name": "python",
   "nbconvert_exporter": "python",
   "pygments_lexer": "ipython3",
   "version": "3.8.8"
  }
 },
 "nbformat": 4,
 "nbformat_minor": 5
}
